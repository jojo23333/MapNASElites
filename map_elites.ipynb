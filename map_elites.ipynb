{
 "cells": [
  {
   "cell_type": "markdown",
   "metadata": {
    "colab_type": "text",
    "id": "lBNMsBUS3SAq"
   },
   "source": [
    "## Load NASBench library and dataset"
   ]
  },
  {
   "cell_type": "code",
   "execution_count": 2,
   "metadata": {
    "colab": {
     "base_uri": "https://localhost:8080/",
     "height": 853
    },
    "colab_type": "code",
    "id": "vl1oLYux3FhJ",
    "outputId": "260484df-3a86-48ef-88a4-f8e441d524bc"
   },
   "outputs": [
    {
     "name": "stdout",
     "output_type": "stream",
     "text": [
      "Loading dataset from file... This may take a few minutes...\n",
      "Loaded dataset in 34 seconds\n"
     ]
    }
   ],
   "source": [
    "from nasbench import api\n",
    "nasbench = api.NASBench('/mnt/workspace/DATASET/NASBench-101/nasbench_only108.tfrecord')"
   ]
  },
  {
   "cell_type": "code",
   "execution_count": null,
   "metadata": {},
   "outputs": [],
   "source": [
    "import wandb\n",
    "wandb.init(project=\"nas\", entity=\"jojo23333\")"
   ]
  },
  {
   "cell_type": "code",
   "execution_count": null,
   "metadata": {
    "colab": {},
    "colab_type": "code",
    "id": "oFhFRmck7NzM"
   },
   "outputs": [],
   "source": [
    "# Standard imports\n",
    "import copy\n",
    "import numpy as np\n",
    "import matplotlib.pyplot as plt\n",
    "import random\n",
    "\n",
    "# Useful constants\n",
    "INPUT = 'input'\n",
    "OUTPUT = 'output'\n",
    "CONV3X3 = 'conv3x3-bn-relu'\n",
    "CONV1X1 = 'conv1x1-bn-relu'\n",
    "MAXPOOL3X3 = 'maxpool3x3'\n",
    "NUM_VERTICES = 7\n",
    "MAX_EDGES = 9\n",
    "EDGE_SPOTS = NUM_VERTICES * (NUM_VERTICES - 1) / 2   # Upper triangular matrix\n",
    "OP_SPOTS = NUM_VERTICES - 2   # Input/output vertices are fixed\n",
    "ALLOWED_OPS = [CONV3X3, CONV1X1, MAXPOOL3X3]\n",
    "ALLOWED_EDGES = [0, 1]   # Binary adjacency matrix"
   ]
  },
  {
   "cell_type": "markdown",
   "metadata": {
    "colab_type": "text",
    "id": "llC2AebQOWq9"
   },
   "source": [
    "## API Data explore"
   ]
  },
  {
   "cell_type": "code",
   "execution_count": null,
   "metadata": {
    "colab": {
     "base_uri": "https://localhost:8080/",
     "height": 258
    },
    "colab_type": "code",
    "id": "kZvm6i0VGP_M",
    "outputId": "2999b6a6-9f1d-4361-8be9-ee54afdb82be"
   },
   "outputs": [
    {
     "name": "stdout",
     "output_type": "stream",
     "text": [
      "module_adjacency: [[0 1 1 1 1 0]\n",
      " [0 0 0 0 0 1]\n",
      " [0 0 0 0 0 1]\n",
      " [0 0 0 0 1 0]\n",
      " [0 0 0 0 0 1]\n",
      " [0 0 0 0 0 0]]\n",
      "module_operations: ['input', 'conv3x3-bn-relu', 'conv1x1-bn-relu', 'conv3x3-bn-relu', 'maxpool3x3', 'output']\n",
      "trainable_parameters: 3354926\n",
      "training_time: 1433.7239990234375\n",
      "train_accuracy: 0.9998998641967773\n",
      "validation_accuracy: 0.9265825152397156\n",
      "test_accuracy: 0.9222756624221802\n"
     ]
    }
   ],
   "source": [
    "# Sample Query an Inception-like cell from the dataset.\n",
    "cell = api.ModelSpec(\n",
    "  matrix=[[0, 1, 1, 1, 0, 1, 0],    # input layer\n",
    "          [0, 0, 0, 0, 0, 0, 1],    # 1x1 conv\n",
    "          [0, 0, 0, 0, 0, 0, 1],    # 3x3 conv\n",
    "          [0, 0, 0, 0, 0, 1, 0],    # 5x5 conv (replaced by two 3x3's)\n",
    "          [0, 0, 0, 0, 0, 0, 1],    # 5x5 conv (replaced by two 3x3's)\n",
    "          [0, 0, 0, 0, 0, 0, 1],    # 3x3 max-pool\n",
    "          [0, 0, 0, 0, 0, 0, 0]],   # output layer\n",
    "  # Operations at the vertices of the module, matches order of matrix.\n",
    "  ops=[INPUT, CONV1X1, CONV3X3, CONV3X3, CONV3X3, MAXPOOL3X3, OUTPUT])\n",
    "\n",
    "# Querying multiple times may yield different results. Each cell is evaluated 3\n",
    "# times at each epoch budget and querying will sample one randomly.\n",
    "data = nasbench.query(cell)\n",
    "for k, v in data.items():\n",
    "  print('%s: %s' % (k, str(v)))"
   ]
  },
  {
   "cell_type": "code",
   "execution_count": null,
   "metadata": {},
   "outputs": [],
   "source": [
    "from map_elites import dfs"
   ]
  },
  {
   "cell_type": "code",
   "execution_count": 51,
   "metadata": {},
   "outputs": [
    {
     "name": "stderr",
     "output_type": "stream",
     "text": [
      "100%|██████████| 423624/423624 [00:18<00:00, 22341.77it/s]\n"
     ]
    }
   ],
   "source": [
    "from tqdm import tqdm\n",
    "cnt = 0\n",
    "nr = []\n",
    "maxl = []\n",
    "minl = []\n",
    "param = []\n",
    "for i in tqdm(nasbench.hash_iterator()):\n",
    "    x, y = nasbench.get_metrics_from_hash(i)\n",
    "    param.append(x['trainable_parameters'])\n",
    "#     print(a)\n",
    "#     print(b)\n",
    "    a, b, c = dfs(x['module_adjacency'], 0, 0, 0, 10)\n",
    "    nr.append(a)\n",
    "    maxl.append(b)\n",
    "    minl.append(c)"
   ]
  },
  {
   "cell_type": "code",
   "execution_count": 55,
   "metadata": {},
   "outputs": [
    {
     "data": {
      "image/png": "[encoded data removed]",
      "text/plain": [
       "<Figure size 432x288 with 1 Axes>"
      ]
     },
     "metadata": {
      "needs_background": "light"
     },
     "output_type": "display_data"
    }
   ],
   "source": [
    "plt.hist(param, bins=100)\n",
    "plt.xlabel(\"Number of params\")\n",
    "plt.ylabel(\"Count\")\n",
    "plt.show()"
   ]
  },
  {
   "cell_type": "code",
   "execution_count": 56,
   "metadata": {},
   "outputs": [],
   "source": [
    "sorted_param = sorted(param)"
   ]
  },
  {
   "cell_type": "code",
   "execution_count": 88,
   "metadata": {},
   "outputs": [
    {
     "data": {
      "text/plain": [
       "[2906692, 5356682, 10880650, 49979274]"
      ]
     },
     "execution_count": 88,
     "metadata": {},
     "output_type": "execute_result"
    }
   ],
   "source": [
    "[sorted_param[i * len(sorted_param)//4] for i in range(1, 4)] + [sorted_param[-1]]"
   ]
  },
  {
   "cell_type": "code",
   "execution_count": 90,
   "metadata": {},
   "outputs": [
    {
     "data": {
      "image/png": "[encoded data removed]",
      "text/plain": [
       "<Figure size 432x288 with 1 Axes>"
      ]
     },
     "metadata": {
      "needs_background": "light"
     },
     "output_type": "display_data"
    }
   ],
   "source": [
    "plt.hist(param, bins=100)\n",
    "plt.xlabel(\"Number of params\")\n",
    "plt.ylabel(\"Count\")\n",
    "for x in [227274, 2906692, 5356682, 10880650, 49979274]:\n",
    "    plt.axvline(x=x, color='r')\n",
    "plt.show()"
   ]
  },
  {
   "cell_type": "code",
   "execution_count": 13,
   "metadata": {},
   "outputs": [
    {
     "data": {
      "image/png": "[encoded data removed]",
      "text/plain": [
       "<Figure size 432x288 with 1 Axes>"
      ]
     },
     "metadata": {
      "needs_background": "light"
     },
     "output_type": "display_data"
    }
   ],
   "source": [
    "plt.hist(nr, bins=8)\n",
    "plt.xlabel(\"Cell Width\")\n",
    "plt.ylabel(\"Count\")\n",
    "plt.show()"
   ]
  },
  {
   "cell_type": "code",
   "execution_count": 14,
   "metadata": {},
   "outputs": [
    {
     "data": {
      "image/png": "[encoded data removed]",
      "text/plain": [
       "<Figure size 432x288 with 1 Axes>"
      ]
     },
     "metadata": {
      "needs_background": "light"
     },
     "output_type": "display_data"
    }
   ],
   "source": [
    "plt.hist(maxl, bins=6)\n",
    "plt.xlabel(\"Cell Longest Path\")\n",
    "plt.ylabel(\"Count\")\n",
    "plt.show()"
   ]
  },
  {
   "cell_type": "code",
   "execution_count": 15,
   "metadata": {},
   "outputs": [
    {
     "data": {
      "image/png": "[encoded data removed]",
      "text/plain": [
       "<Figure size 432x288 with 1 Axes>"
      ]
     },
     "metadata": {
      "needs_background": "light"
     },
     "output_type": "display_data"
    }
   ],
   "source": [
    "plt.hist(minl, bins=6)\n",
    "plt.xlabel(\"Cell Shortest Path\")\n",
    "plt.ylabel(\"Count\")\n",
    "plt.show()"
   ]
  },
  {
   "cell_type": "markdown",
   "metadata": {
    "colab_type": "text",
    "id": "uXnVdG32Oe19"
   },
   "source": [
    "## Random search vs Evolution vs Genetic Algorithms"
   ]
  },
  {
   "cell_type": "code",
   "execution_count": 16,
   "metadata": {},
   "outputs": [],
   "source": [
    "from tqdm import tqdm\n",
    "from time import time"
   ]
  },
  {
   "cell_type": "code",
   "execution_count": 17,
   "metadata": {},
   "outputs": [
    {
     "name": "stdout",
     "output_type": "stream",
     "text": [
      "Elite Matrix DIM: (5, 8, 6, 6)\n"
     ]
    }
   ],
   "source": []
  },
  {
   "cell_type": "code",
   "execution_count": 78,
   "metadata": {},
   "outputs": [
    {
     "name": "stdout",
     "output_type": "stream",
     "text": [
      "Elite Matrix DIM: (6, 8, 6, 6)\n"
     ]
    }
   ],
   "source": [
    "MAX_N = 6\n",
    "MAX_R = 8 \n",
    "MAX_L = 6\n",
    "MAX_S = 6\n",
    "NASBENCH_DIM = (MAX_N, MAX_R, MAX_L, MAX_S)\n",
    "\n",
    "def get_nasbench_elites_3d(adj, module):\n",
    "    num_routes, max_len, min_len = dfs(adj, 0, 0, 0, 10)\n",
    "    num_node = len(module) \n",
    "    # num_routes 1~8\n",
    "    # max_len 1~6\n",
    "    # min_len 1~6\n",
    "    return num_routes - 1, max_len - 1, min_len - 1\n",
    "\n",
    "def get_nasbench_elites(adj, module):\n",
    "    num_routes, max_len, min_len = dfs(adj, 0, 0, 0, 10)\n",
    "    num_node = len(module) \n",
    "    # num_node 2~7\n",
    "    # num_routes 1~8\n",
    "    # max_len 1~6\n",
    "    # min_len 1~6\n",
    "    return num_node - 2, num_routes - 1, max_len - 1, min_len - 1\n",
    "\n",
    "NASBENCH_PARAM_DIST = [2906692, 5356682, 10880650, 50000000]\n",
    "def get_nasbench_elites_params(elite):\n",
    "    adj = elite[\"module_adjacency\"]\n",
    "    modules = elite[\"module_operations\"]\n",
    "    num_param = elite[\"trainable_parameters\"]\n",
    "    num_routes, max_len, min_len = dfs(adj, 0, 0, 0, 10)\n",
    "    for i in range(len(NASBENCH_PARAM_DIST)):\n",
    "        if num_param < NASBENCH_PARAM_DIST[i]:\n",
    "            param_num_level = i\n",
    "            return param_num_level, num_routes - 1, max_len - 1, min_len - 1\n",
    "\n",
    "class EliteMatrix:\n",
    "    \"\"\"\n",
    "    A class for saving qulity diversity policies, capable of handling different dim size\n",
    "    \"\"\"\n",
    "    def __init__(self, dims, elites=None, get_idx_fn=get_nasbench_elites_3d):\n",
    "        self.dims = dims\n",
    "        self.get_idx_fn = get_idx_fn\n",
    "        if elites is None:\n",
    "            self.elites = np.full(dims, None)\n",
    "        else:\n",
    "            self.elites = elites\n",
    "    \n",
    "    def update_elites(self, elite):\n",
    "        idx = self.get_idx_fn(elite)\n",
    "        cur_elite = self.elites[idx]\n",
    "        if cur_elite is None:\n",
    "            self.elites[idx] = copy.deepcopy(elite)\n",
    "        elif cur_elite['validation_accuracy'] < elite['validation_accuracy']:\n",
    "            self.elites[idx] = copy.deepcopy(elite)\n",
    "            \n",
    "    def get_performance(self, key='validation_accuracy'):\n",
    "        fn = lambda x: x[key] if x is not None and key in x else 0 \n",
    "        return np.array([fn(x) for x in self.elites.flatten()]).reshape(self.dims)\n",
    "    \n",
    "    def iter(self):\n",
    "        for idx, x in np.ndenumerate(self.elites):\n",
    "            if self.elites[idx] is not None:\n",
    "                yield self.elites[idx], idx\n",
    "    \n",
    "    def update_metric(self, metric, idx, key='new_metric'):\n",
    "        assert self.elites[idx] is not None\n",
    "        self.elites[idx][key] = metric\n",
    "    \n",
    "    @classmethod\n",
    "    def load(cls, x):\n",
    "        elites = np.load(x, allow_pickle=True)\n",
    "        dims = elites.shape\n",
    "        return cls(dims, elites)\n",
    "\n",
    "    def save(self, path):\n",
    "        np.save(path, self.elites)\n",
    "\n",
    "print(f\"Elite Matrix DIM: {NASBENCH_DIM}\")\n",
    "gt_elites_matrix = EliteMatrix((5,8,6,6), get_idx_fn=get_nasbench_elites_params)"
   ]
  },
  {
   "cell_type": "code",
   "execution_count": 79,
   "metadata": {},
   "outputs": [
    {
     "name": "stderr",
     "output_type": "stream",
     "text": [
      "100%|██████████| 423624/423624 [00:51<00:00, 8271.89it/s]\n"
     ]
    }
   ],
   "source": [
    "for i in tqdm(nasbench.hash_iterator()):\n",
    "    x, y = nasbench.get_metrics_from_hash(i)\n",
    "    y = y[108]\n",
    "    averaged_y = {}\n",
    "    for k in y[0].keys():\n",
    "        averaged_y[k] = np.mean([x[k] for x in y])\n",
    "    x.update(averaged_y)\n",
    "    x['validation_accuracy'] = x['final_validation_accuracy']\n",
    "    x['test_accuracy'] = x['final_test_accuracy']\n",
    "    gt_elites_matrix.update_elites(x)\n"
   ]
  },
  {
   "cell_type": "code",
   "execution_count": 85,
   "metadata": {},
   "outputs": [],
   "source": [
    "np.save('nasbench_gt_elites_PRLS.npy', gt_elites_matrix.elites)"
   ]
  },
  {
   "cell_type": "code",
   "execution_count": 87,
   "metadata": {},
   "outputs": [
    {
     "name": "stdout",
     "output_type": "stream",
     "text": [
      "424\n"
     ]
    }
   ],
   "source": [
    "cnt = 0\n",
    "for x in gt_elites_matrix.iter():\n",
    "    cnt = cnt + 1\n",
    "print(cnt)"
   ]
  },
  {
   "cell_type": "code",
   "execution_count": 171,
   "metadata": {},
   "outputs": [
    {
     "data": {
      "text/plain": [
       "(8, 6, 6)"
      ]
     },
     "execution_count": 171,
     "metadata": {},
     "output_type": "execute_result"
    }
   ],
   "source": [
    "a = np.load(\"nasbench_gt_KMNIST.npy\", allow_pickle=True)"
   ]
  },
  {
   "cell_type": "code",
   "execution_count": null,
   "metadata": {},
   "outputs": [],
   "source": [
    "\n",
    "plot_3d_in_2d(c.elites_matrix.get_performance())"
   ]
  },
  {
   "cell_type": "code",
   "execution_count": 172,
   "metadata": {},
   "outputs": [
    {
     "data": {
      "text/plain": [
       "{'module_adjacency': array([[0, 1],\n",
       "        [0, 0]], dtype=int8),\n",
       " 'module_operations': ['input', 'output'],\n",
       " 'trainable_parameters': 882570,\n",
       " 'halfway_training_time': 142.21833292643228,\n",
       " 'halfway_train_accuracy': 0.7120392521222433,\n",
       " 'halfway_validation_accuracy': 0.6670339107513428,\n",
       " 'halfway_test_accuracy': 0.6697048544883728,\n",
       " 'final_training_time': 284.5003356933594,\n",
       " 'final_train_accuracy': 0.9782652258872986,\n",
       " 'final_validation_accuracy': 0.8340344627698263,\n",
       " 'final_test_accuracy': 0.837707002957662,\n",
       " 'validation_accuracy': 0.8340344627698263,\n",
       " 'test_accuracy': 0.837707002957662}"
      ]
     },
     "execution_count": 172,
     "metadata": {},
     "output_type": "execute_result"
    }
   ],
   "source": [
    "gt_elites_matrix.elites[0][0][0]"
   ]
  },
  {
   "cell_type": "code",
   "execution_count": 131,
   "metadata": {},
   "outputs": [],
   "source": [
    "\n",
    "class SimpleGAController:\n",
    "    def __init__(self, num_population=1001, num_individual=20, sigma=0.02) -> None:\n",
    "        self.num_pop = num_population\n",
    "        self.num_top_ind = num_individual\n",
    "        self.sigma = sigma\n",
    "    \n",
    "        self.population = None\n",
    "        self.elite = None\n",
    "        self.fitness = []\n",
    "        self.elites_matrix = EliteMatrix(MAX_R, MAX_L, MAX_S)\n",
    "\n",
    "    def create_population(self):\n",
    "        \"\"\"\n",
    "        Creates the initial population of the genetic algorithm as a list of networks' weights (i.e. solutions). Each element in the list holds a different weights of the PyTorch model.\n",
    "        The method returns a list holding the weights of all solutions.\n",
    "        \"\"\"\n",
    "        initial_spec = random_spec()\n",
    "        spec_population = [initial_spec]\n",
    "        for idx in range(self.num_pop-1):\n",
    "            spec_population.append(mutate_spec(initial_spec))\n",
    "        return spec_population\n",
    "\n",
    "    def eval_population(self, population, num_runs=1):\n",
    "        pop_with_fitness = []\n",
    "        for p in population:\n",
    "            # TODO here\n",
    "            f = {\n",
    "                \"module_adjacency\": 0,\n",
    "                \"module_operations\": 0, \n",
    "                \"validation_accuracy\": 0,\n",
    "                \"test_accuracy\": 0,\n",
    "                'training_time': 0\n",
    "            }\n",
    "            for i in range(num_runs):\n",
    "                f_i =  self.get_fitness(spec=p)\n",
    "                f[\"validation_accuracy\"] += f_i[\"validation_accuracy\"]\n",
    "                f[\"test_accuracy\"] += f_i[\"test_accuracy\"]\n",
    "                f[\"training_time\"] += f_i[\"training_time\"]\n",
    "            f = {k: v/num_runs for k, v in f.items()}\n",
    "            f[\"module_adjacency\"] = f_i[\"module_adjacency\"]\n",
    "            f[\"module_operations\"] = f_i[\"module_operations\"]\n",
    "            pop_with_fitness.append((p, f))\n",
    "        pop_with_fitness = sorted(pop_with_fitness, key=lambda x:-x[1]['validation_accuracy'])\n",
    "        return pop_with_fitness\n",
    "\n",
    "    def get_fitness(self, spec):\n",
    "        data = nasbench.query(spec)\n",
    "        time_spent, _ = nasbench.get_budget_counters()\n",
    "        # data['time_spent'] = time_spent\n",
    "        return data\n",
    "\n",
    "    def evolve(self, num_generations, log=False):\n",
    "        best_val_acc = 0\n",
    "        best_test_acc = 0\n",
    "        for g in range(num_generations):\n",
    "            starttime = time()\n",
    "            if g == 0:\n",
    "                next_generations = self.create_population()\n",
    "            else:\n",
    "                next_generations = []\n",
    "                for i in range(self.num_pop-1):\n",
    "                    k = np.random.choice(range(self.num_top_ind))\n",
    "                    next_generations.append(mutate_spec(self.population[k]))\n",
    "            evaled_population = self.eval_population(next_generations)\n",
    "            \n",
    "            if g == 0:\n",
    "                self.elite_candidates = [x[0] for x in evaled_population[:10]]\n",
    "            else:\n",
    "                self.elite_candidates = [x[0] for x in evaled_population[:9]] + [self.elite[0]]\n",
    "\n",
    "            elites = self.eval_population(self.elite_candidates, num_runs=10)\n",
    "            \n",
    "            for e in evaled_population:\n",
    "                self.elites_matrix.update_elites(e[1])\n",
    "\n",
    "            self.elite = elites[0]\n",
    "            if self.population is not None:\n",
    "                del self.population\n",
    "            self.population = [x[0] for x in evaled_population]\n",
    "\n",
    "            if log:\n",
    "                hist = np.histogram(\n",
    "                    a = [x[1][\"validation_accuracy\"] for x in elites],\n",
    "                    bins = 10,\n",
    "                    range = (0.8, 1),\n",
    "                )\n",
    "                wandb.log({\n",
    "                    'elite_val': elites[0][1]['validation_accuracy'],\n",
    "                    'elite_test': elites[0][1]['test_accuracy'],\n",
    "                    'pop_histogram': wandb.Histogram(np_histogram=hist)\n",
    "                })\n",
    "            if elites[0][1]['validation_accuracy'] > best_val_acc:\n",
    "                best_val_acc = elites[0][1]['validation_accuracy']\n",
    "                best_test_acc = elites[0][1]['test_accuracy']\n",
    "            endtime = time()\n",
    "            if log:\n",
    "                print(\n",
    "                    f\"Generation {g} Finished, {(endtime - starttime):.2f}s\\n Elite score: {elites[0][1]['test_accuracy']}\")\n",
    "\n",
    "        return self.elite, best_val_acc, best_test_acc\n"
   ]
  },
  {
   "cell_type": "code",
   "execution_count": 132,
   "metadata": {},
   "outputs": [
    {
     "data": {
      "text/plain": [
       "((<nasbench.lib.model_spec.ModelSpec at 0x7f4d6ebebac0>,\n",
       "  {'module_adjacency': array([[0, 1, 1, 1, 1, 1],\n",
       "          [0, 0, 0, 0, 1, 0],\n",
       "          [0, 0, 0, 1, 0, 0],\n",
       "          [0, 0, 0, 0, 1, 0],\n",
       "          [0, 0, 0, 0, 0, 1],\n",
       "          [0, 0, 0, 0, 0, 0]], dtype=int8),\n",
       "   'module_operations': ['input',\n",
       "    'conv1x1-bn-relu',\n",
       "    'conv3x3-bn-relu',\n",
       "    'conv3x3-bn-relu',\n",
       "    'conv1x1-bn-relu',\n",
       "    'output'],\n",
       "   'validation_accuracy': 0.9485577046871185,\n",
       "   'test_accuracy': 0.9407552003860473,\n",
       "   'training_time': 3434.397216796875}),\n",
       " 0.9504707634449006,\n",
       " 0.9425079941749572)"
      ]
     },
     "execution_count": 132,
     "metadata": {},
     "output_type": "execute_result"
    }
   ],
   "source": [
    "c = SimpleGAController(num_population=160, num_individual=5)\n",
    "c.evolve(num_generations=100)"
   ]
  },
  {
   "cell_type": "code",
   "execution_count": 83,
   "metadata": {},
   "outputs": [],
   "source": [
    "def plot_3d_in_2d(matrix):\n",
    "    \"\"\"Plot 3d matrix in a 2d plane\n",
    "\n",
    "    Args:\n",
    "        matrix (np.ndarray): [description]\n",
    "    \"\"\"\n",
    "    from mpl_toolkits.axes_grid1 import AxesGrid\n",
    "    min_value = np.min(matrix[matrix!=0])\n",
    "    num_ax = matrix.shape[0]\n",
    "    fig = plt.figure(dpi=200)\n",
    "    grid = AxesGrid(fig, 111,\n",
    "                nrows_ncols=(1, num_ax),\n",
    "                axes_pad=0.05,\n",
    "                share_all=True,\n",
    "                label_mode=\"L\",\n",
    "                cbar_location=\"right\",\n",
    "                cbar_mode=\"single\",\n",
    "                )\n",
    "    for i, ax in enumerate(grid):\n",
    "        im = ax.imshow(matrix[i], vmin=min_value-0.05, vmax=matrix.max(), cmap='plasma')\n",
    "    grid.cbar_axes[0].colorbar(im)\n",
    "    # for cax in grid.cbar_axes:\n",
    "    #     cax.toggle_label(False)\n",
    "    plt.show()\n",
    "\n",
    "def plot_4d_in_2d(matrix):\n",
    "    \"\"\"Plot 3d matrix in a 2d plane\n",
    "\n",
    "    Args:\n",
    "        matrix (np.ndarray): [description]\n",
    "    \"\"\"\n",
    "    from mpl_toolkits.axes_grid1 import AxesGrid\n",
    "    min_value = np.min(matrix[matrix!=0])\n",
    "    num_ax_1 = matrix.shape[0]\n",
    "    num_ax_2 = matrix.shape[1]\n",
    "    fig = plt.figure(dpi=200)\n",
    "    grid = AxesGrid(fig, 111,\n",
    "                nrows_ncols=(num_ax_1, num_ax_2),\n",
    "                axes_pad=0.05,\n",
    "                share_all=True,\n",
    "                label_mode=\"L\",\n",
    "                cbar_location=\"right\",\n",
    "                cbar_mode=\"single\",\n",
    "                )\n",
    "    for i, ax in enumerate(grid):\n",
    "        j = i % num_ax_2\n",
    "        i = i // num_ax_2\n",
    "        im = ax.imshow(matrix[i, j], vmin=min_value-0.05, vmax=matrix.max(), cmap='plasma')\n",
    "    grid.cbar_axes[0].colorbar(im)\n",
    "    # for cax in grid.cbar_axes:\n",
    "    #     cax.toggle_label(False)\n",
    "    plt.show()"
   ]
  },
  {
   "cell_type": "code",
   "execution_count": 50,
   "metadata": {},
   "outputs": [
    {
     "data": {
      "image/png": "[encoded data removed]",
      "text/plain": [
       "<Figure size 1200x800 with 72 Axes>"
      ]
     },
     "metadata": {
      "needs_background": "light"
     },
     "output_type": "display_data"
    }
   ],
   "source": [
    "plot_4d_in_2d(gt_elites_matrix.get_performance())"
   ]
  },
  {
   "cell_type": "code",
   "execution_count": 84,
   "metadata": {},
   "outputs": [
    {
     "data": {
      "image/png": "[encoded data removed]",
      "text/plain": [
       "<Figure size 1200x800 with 80 Axes>"
      ]
     },
     "metadata": {
      "needs_background": "light"
     },
     "output_type": "display_data"
    }
   ],
   "source": [
    "plot_4d_in_2d(gt_elites_matrix.get_performance())"
   ]
  },
  {
   "cell_type": "code",
   "execution_count": 82,
   "metadata": {},
   "outputs": [
    {
     "data": {
      "text/plain": [
       "(5, 8, 6, 6)"
      ]
     },
     "execution_count": 82,
     "metadata": {},
     "output_type": "execute_result"
    }
   ],
   "source": [
    "gt_elites_matrix.get_performance().shape"
   ]
  },
  {
   "cell_type": "code",
   "execution_count": 149,
   "metadata": {},
   "outputs": [
    {
     "data": {
      "image/png": "[encoded data removed]",
      "text/plain": [
       "<Figure size 1200x800 with 16 Axes>"
      ]
     },
     "metadata": {
      "needs_background": "light"
     },
     "output_type": "display_data"
    }
   ],
   "source": [
    "plot_3d_in_2d(c.elites_matrix.get_performance())"
   ]
  },
  {
   "cell_type": "code",
   "execution_count": 162,
   "metadata": {},
   "outputs": [
    {
     "data": {
      "image/png": "[encoded data removed]",
      "text/plain": [
       "<Figure size 1200x800 with 16 Axes>"
      ]
     },
     "metadata": {
      "needs_background": "light"
     },
     "output_type": "display_data"
    }
   ],
   "source": [
    "plot_3d_in_2d(gt_elites_matrix.get_performance())"
   ]
  },
  {
   "cell_type": "code",
   "execution_count": 98,
   "metadata": {},
   "outputs": [],
   "source": [
    "def run_ga(num_pop, num_gen, num_ind, time_repeat=20):\n",
    "    c = SimpleGAController(num_population=num_pop, num_individual=num_ind)\n",
    "    ga_data = []\n",
    "    for i in range(time_repeat):\n",
    "        e, v, t = c.evolve(num_generations=num_gen)\n",
    "        ga_data.append((e, v, t))\n",
    "    mean_best_validation_ga = mean([x[1] for x in ga_data])\n",
    "    mean_best_test_ga = mean([x[2] for x in ga_data])\n",
    "    return mean_best_validation_ga, mean_best_test_ga"
   ]
  },
  {
   "cell_type": "code",
   "execution_count": 83,
   "metadata": {},
   "outputs": [],
   "source": [
    "def run_search(num_ind, time_repeat):\n",
    "    X=[]\n",
    "    Y=[]\n",
    "    Z=[]\n",
    "#     budgets = [500, 1000, 2000, 4000, 6000, 10000, 20000]\n",
    "    gens = [10, 20, 30, 40, 50, 60, 80, 90, 100]\n",
    "    pops = [5, 10, 20, 40, 80, 160, 320]\n",
    "    for b in tqdm(pops):\n",
    "        X.append(gens)\n",
    "        Y.append(b)\n",
    "        Z.append([\n",
    "            run_ga(\n",
    "                num_pop=b+1,\n",
    "                num_gen=x,\n",
    "                num_ind=num_ind,\n",
    "                time_repeat=time_repeat\n",
    "            )\n",
    "            for x in gens\n",
    "        ])\n",
    "    return X, Y, Z"
   ]
  },
  {
   "cell_type": "code",
   "execution_count": 84,
   "metadata": {},
   "outputs": [
    {
     "name": "stderr",
     "output_type": "stream",
     "text": [
      "100%|███████████████████████████████████████████████████████████████████████████████████████████████████████| 7/7 [17:42<00:00, 151.79s/it]\n"
     ]
    }
   ],
   "source": [
    "x, y, z = run_search(num_ind=5, time_repeat=10)"
   ]
  },
  {
   "cell_type": "code",
   "execution_count": 85,
   "metadata": {},
   "outputs": [],
   "source": [
    "x, y, z = np.array(x), np.array(y), np.array(z)"
   ]
  },
  {
   "cell_type": "code",
   "execution_count": 92,
   "metadata": {},
   "outputs": [
    {
     "data": {
      "text/plain": [
       "array([[  5,  10,  20,  40,  80, 160, 320],\n",
       "       [  5,  10,  20,  40,  80, 160, 320],\n",
       "       [  5,  10,  20,  40,  80, 160, 320],\n",
       "       [  5,  10,  20,  40,  80, 160, 320],\n",
       "       [  5,  10,  20,  40,  80, 160, 320],\n",
       "       [  5,  10,  20,  40,  80, 160, 320],\n",
       "       [  5,  10,  20,  40,  80, 160, 320]])"
      ]
     },
     "execution_count": 92,
     "metadata": {},
     "output_type": "execute_result"
    }
   ],
   "source": [
    "y"
   ]
  },
  {
   "cell_type": "code",
   "execution_count": 73,
   "metadata": {},
   "outputs": [
    {
     "data": {
      "image/png": "[encoded data removed]",
      "text/plain": [
       "<Figure size 432x288 with 1 Axes>"
      ]
     },
     "metadata": {
      "needs_background": "light"
     },
     "output_type": "display_data"
    }
   ],
   "source": [
    "from mpl_toolkits.mplot3d import axes3d\n",
    "import matplotlib.pyplot as plt\n",
    "\n",
    "\n",
    "fig = plt.figure()\n",
    "ax = fig.add_subplot(111, projection='3d')\n",
    "\n",
    "\n",
    "# Plot a basic wireframe.\n",
    "ax.plot_wireframe(x, y, z[:,:,1], rstride=1, cstride=1)\n",
    "\n",
    "plt.show()"
   ]
  },
  {
   "cell_type": "code",
   "execution_count": 54,
   "metadata": {},
   "outputs": [
    {
     "name": "stderr",
     "output_type": "stream",
     "text": [
      "100%|██████████████████████████████████████████████████████████████████████████████████████████████████████| 20/20 [00:30<00:00,  1.54s/it]"
     ]
    },
    {
     "name": "stdout",
     "output_type": "stream",
     "text": [
      "0.9483047944307328\n",
      "0.9407526999711993\n"
     ]
    },
    {
     "name": "stderr",
     "output_type": "stream",
     "text": [
      "\n"
     ]
    }
   ],
   "source": [
    "c = SimpleGAController(num_population=101, num_individual=5)\n",
    "ga_data = []\n",
    "for i in tqdm(range(20)):\n",
    "    e, v, t = c.evolve(num_generations=50)\n",
    "    ga_data.append((e, v, t))\n",
    "mean_best_validation_ga = mean([x[1] for x in ga_data])\n",
    "print(mean_best_validation_ga)\n",
    "mean_best_test_ga = mean([x[2] for x in ga_data])\n",
    "print(mean_best_test_ga)"
   ]
  },
  {
   "cell_type": "code",
   "execution_count": 24,
   "metadata": {
    "colab": {
     "base_uri": "https://localhost:8080/",
     "height": 187
    },
    "colab_type": "code",
    "id": "HMfF2zXxpQNA",
    "outputId": "edff2ca4-8a55-4537-838a-dedc7a9f360b"
   },
   "outputs": [
    {
     "name": "stdout",
     "output_type": "stream",
     "text": [
      "Running repeat 1\n",
      "Running repeat 2\n",
      "Running repeat 3\n",
      "Running repeat 4\n",
      "Running repeat 5\n",
      "Running repeat 6\n",
      "Running repeat 7\n",
      "Running repeat 8\n",
      "Running repeat 9\n",
      "Running repeat 10\n",
      "Running repeat 11\n",
      "Running repeat 12\n",
      "Running repeat 13\n",
      "Running repeat 14\n",
      "Running repeat 15\n",
      "Running repeat 16\n",
      "Running repeat 17\n",
      "Running repeat 18\n",
      "Running repeat 19\n",
      "Running repeat 20\n",
      "Running repeat 21\n",
      "Running repeat 22\n",
      "Running repeat 23\n",
      "Running repeat 24\n",
      "Running repeat 25\n",
      "Running repeat 26\n",
      "Running repeat 27\n",
      "Running repeat 28\n",
      "Running repeat 29\n",
      "Running repeat 30\n",
      "Running repeat 31\n",
      "Running repeat 32\n",
      "Running repeat 33\n",
      "Running repeat 34\n",
      "Running repeat 35\n",
      "Running repeat 36\n",
      "Running repeat 37\n",
      "Running repeat 38\n",
      "Running repeat 39\n",
      "Running repeat 40\n",
      "Running repeat 41\n",
      "Running repeat 42\n",
      "Running repeat 43\n",
      "Running repeat 44\n",
      "Running repeat 45\n",
      "Running repeat 46\n",
      "Running repeat 47\n",
      "Running repeat 48\n",
      "Running repeat 49\n",
      "Running repeat 50\n",
      "Running repeat 51\n",
      "Running repeat 52\n",
      "Running repeat 53\n",
      "Running repeat 54\n",
      "Running repeat 55\n",
      "Running repeat 56\n",
      "Running repeat 57\n",
      "Running repeat 58\n",
      "Running repeat 59\n",
      "Running repeat 60\n",
      "Running repeat 61\n",
      "Running repeat 62\n",
      "Running repeat 63\n",
      "Running repeat 64\n",
      "Running repeat 65\n",
      "Running repeat 66\n",
      "Running repeat 67\n",
      "Running repeat 68\n",
      "Running repeat 69\n",
      "Running repeat 70\n",
      "Running repeat 71\n",
      "Running repeat 72\n",
      "Running repeat 73\n",
      "Running repeat 74\n",
      "Running repeat 75\n",
      "Running repeat 76\n",
      "Running repeat 77\n",
      "Running repeat 78\n",
      "Running repeat 79\n",
      "Running repeat 80\n",
      "Running repeat 81\n",
      "Running repeat 82\n",
      "Running repeat 83\n",
      "Running repeat 84\n",
      "Running repeat 85\n",
      "Running repeat 86\n",
      "Running repeat 87\n",
      "Running repeat 88\n",
      "Running repeat 89\n",
      "Running repeat 90\n",
      "Running repeat 91\n",
      "Running repeat 92\n",
      "Running repeat 93\n",
      "Running repeat 94\n",
      "Running repeat 95\n",
      "Running repeat 96\n",
      "Running repeat 97\n",
      "Running repeat 98\n",
      "Running repeat 99\n",
      "Running repeat 100\n"
     ]
    }
   ],
   "source": [
    "# Run random search and evolution search 10 times each. This should take a few\n",
    "# minutes to run. Note that each run would have taken days of compute to\n",
    "# actually train and evaluate if the dataset were not precomputed.\n",
    "random_data = []\n",
    "evolution_data = []\n",
    "for repeat in range(100):\n",
    "  print('Running repeat %d' % (repeat + 1))\n",
    "  times, best_valid, best_test = run_random_search()\n",
    "  random_data.append((times, best_valid, best_test))\n",
    "\n",
    "  times, best_valid, best_test = run_evolution_search()\n",
    "  evolution_data.append((times, best_valid, best_test))"
   ]
  },
  {
   "cell_type": "code",
   "execution_count": 20,
   "metadata": {
    "colab": {
     "base_uri": "https://localhost:8080/",
     "height": 367
    },
    "colab_type": "code",
    "id": "2d-yRmuhkz35",
    "outputId": "2ae12897-074f-4705-db94-6be1aa4208dc"
   },
   "outputs": [
    {
     "data": {
      "text/plain": [
       "Text(0.5, 1.0, 'Evolution search trajectories (red=validation, blue=test)')"
      ]
     },
     "execution_count": 20,
     "metadata": {},
     "output_type": "execute_result"
    },
    {
     "data": {
      "image/png": "[encoded data removed]",
      "text/plain": [
       "<Figure size 1440x360 with 2 Axes>"
      ]
     },
     "metadata": {
      "needs_background": "light"
     },
     "output_type": "display_data"
    }
   ],
   "source": [
    "\n",
    "plt.figure(figsize=(20, 5))\n",
    "\n",
    "plt.subplot(1, 3, 1)\n",
    "for times, best_valid, best_test in random_data:\n",
    "  plt.plot(times, best_valid, label='valid', color='red', alpha=0.5)\n",
    "  plt.plot(times, best_test, label='test', color='blue', alpha=0.5)\n",
    "\n",
    "plt.ylabel('accuracy')\n",
    "plt.xlabel('time spent (seconds)')\n",
    "plt.ylim(0.92, 0.96)\n",
    "plt.grid()\n",
    "plt.title('Random search trajectories (red=validation, blue=test)')\n",
    "\n",
    "\n",
    "plt.subplot(1, 3, 2)\n",
    "for times, best_valid, best_test in evolution_data:\n",
    "  plt.plot(times, best_valid, label='valid', color='red', alpha=0.5)\n",
    "  plt.plot(times, best_test, label='test', color='blue', alpha=0.5)\n",
    "\n",
    "plt.ylabel('accuracy')\n",
    "plt.xlabel('time spent (seconds)')\n",
    "plt.ylim(0.92, 0.96)\n",
    "plt.grid()\n",
    "plt.title('Evolution search trajectories (red=validation, blue=test)')"
   ]
  },
  {
   "cell_type": "code",
   "execution_count": 25,
   "metadata": {},
   "outputs": [
    {
     "name": "stdout",
     "output_type": "stream",
     "text": [
      "0.9480378669500351\n",
      "0.9401782751083374\n",
      "0.9497436028718949\n",
      "0.94143829703331\n"
     ]
    }
   ],
   "source": [
    "mean_best_validation_random = mean([x[1][-1] for x in random_data])\n",
    "print(mean_best_validation_random)\n",
    "mean_best_test_random = mean([x[2][-1] for x in random_data])\n",
    "print(mean_best_test_random)\n",
    "mean_best_validation_evolution = mean([x[1][-1] for x in evolution_data])\n",
    "print(mean_best_validation_evolution)\n",
    "mean_best_test_evolution = mean([x[2][-1] for x in evolution_data])\n",
    "print(mean_best_test_evolution)"
   ]
  },
  {
   "cell_type": "code",
   "execution_count": 46,
   "metadata": {},
   "outputs": [
    {
     "data": {
      "text/plain": [
       "4132"
      ]
     },
     "execution_count": 46,
     "metadata": {},
     "output_type": "execute_result"
    }
   ],
   "source": [
    "len(random_data[20][0])"
   ]
  },
  {
   "cell_type": "code",
   "execution_count": null,
   "metadata": {
    "colab": {
     "base_uri": "https://localhost:8080/",
     "height": 283
    },
    "colab_type": "code",
    "id": "F9lB_qL2oz9M",
    "outputId": "2a9d25c8-3adb-456a-ae2d-3229a7ed8bfe"
   },
   "outputs": [],
   "source": [
    "# Compare the mean test accuracy along with error bars.\n",
    "def plot_data(data, color, label, gran=10000, max_budget=5000000):\n",
    "  \"\"\"Computes the mean and IQR fixed time steps.\"\"\"\n",
    "  xs = range(0, max_budget+1, gran)\n",
    "  mean = [0.0]\n",
    "  per25 = [0.0]\n",
    "  per75 = [0.0]\n",
    "  \n",
    "  repeats = len(data)\n",
    "  pointers = [1 for _ in range(repeats)]\n",
    "  \n",
    "  cur = gran\n",
    "  while cur < max_budget+1:\n",
    "    all_vals = []\n",
    "    for repeat in range(repeats):\n",
    "      while (pointers[repeat] < len(data[repeat][0]) and \n",
    "             data[repeat][0][pointers[repeat]] < cur):\n",
    "        pointers[repeat] += 1\n",
    "      prev_time = data[repeat][0][pointers[repeat]-1]\n",
    "      prev_test = data[repeat][2][pointers[repeat]-1]\n",
    "      next_time = data[repeat][0][pointers[repeat]]\n",
    "      next_test = data[repeat][2][pointers[repeat]]\n",
    "      assert prev_time < cur and next_time >= cur\n",
    "\n",
    "      # Linearly interpolate the test between the two surrounding points\n",
    "      cur_val = ((cur - prev_time) / (next_time - prev_time)) * (next_test - prev_test) + prev_test\n",
    "      \n",
    "      all_vals.append(cur_val)\n",
    "      \n",
    "    all_vals = sorted(all_vals)\n",
    "    mean.append(sum(all_vals) / float(len(all_vals)))\n",
    "    per25.append(all_vals[int(0.25 * repeats)])\n",
    "    per75.append(all_vals[int(0.75 * repeats)])\n",
    "      \n",
    "    cur += gran\n",
    "    \n",
    "  plt.plot(xs, mean, color=color, label=label, linewidth=2)\n",
    "  plt.fill_between(xs, per25, per75, alpha=0.1, linewidth=0, facecolor=color)\n",
    "\n",
    "plot_data(random_data, 'red', 'random')\n",
    "plot_data(evolution_data, 'blue', 'evolution')\n",
    "plt.legend(loc='lower right')\n",
    "plt.ylim(0.92, 0.95)\n",
    "plt.xlabel('total training time spent (seconds)')\n",
    "plt.ylabel('accuracy')\n",
    "plt.grid()"
   ]
  },
  {
   "cell_type": "markdown",
   "metadata": {
    "colab_type": "text",
    "id": "DPnRtp0zXUDh"
   },
   "source": [
    "## More information\n",
    "\n",
    "For more information on using the dataset, see the API documentation at https://github.com/google-research/nasbench/blob/master/nasbench/api.py.\n"
   ]
  }
 ],
 "metadata": {
  "colab": {
   "collapsed_sections": [],
   "name": "NASBench.ipynb",
   "provenance": [],
   "toc_visible": true
  },
  "kernelspec": {
   "display_name": "Python 3 (ipykernel)",
   "language": "python",
   "name": "python3"
  },
  "language_info": {
   "codemirror_mode": {
    "name": "ipython",
    "version": 3
   },
   "file_extension": ".py",
   "mimetype": "text/x-python",
   "name": "python",
   "nbconvert_exporter": "python",
   "pygments_lexer": "ipython3",
   "version": "3.8.12"
  }
 },
 "nbformat": 4,
 "nbformat_minor": 1
}
